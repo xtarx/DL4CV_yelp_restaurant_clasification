{
 "cells": [
  {
   "cell_type": "markdown",
   "metadata": {},
   "source": [
    "# PART3: Multilabel-Classification using scikit-learn SVM"
   ]
  },
  {
   "cell_type": "markdown",
   "metadata": {},
   "source": [
    "## Load Data"
   ]
  },
  {
   "cell_type": "code",
   "execution_count": 176,
   "metadata": {
    "collapsed": false
   },
   "outputs": [],
   "source": [
    "import numpy as np\n",
    "import pandas as pd \n",
    "import time\n",
    "import os"
   ]
  },
  {
   "cell_type": "code",
   "execution_count": 181,
   "metadata": {
    "collapsed": true
   },
   "outputs": [],
   "source": [
    "def get_biz_features(biz_id):\n",
    "    path='../dataset/business_features/'+str(biz_id)+'.features'\n",
    "    if(not os.path.isfile(path)):\n",
    "        return False\n",
    "\n",
    "    fh=open(path)\n",
    "    contents = [line.rstrip() for line in fh.readlines()]\n",
    "    fh.close()\n",
    "    return [round(float(contents[i]),9) for i in range(len(contents))]\n"
   ]
  },
  {
   "cell_type": "code",
   "execution_count": 178,
   "metadata": {
    "collapsed": false
   },
   "outputs": [
    {
     "name": "stdout",
     "output_type": "stream",
     "text": [
      "Number of business:  1996 (4 business with missing labels are dropped)\n"
     ]
    }
   ],
   "source": [
    "train_labels = pd.read_csv('../dataset/train.csv').dropna()\n",
    "train_labels['labels'] = train_labels['labels'].apply(lambda x: tuple(sorted(int(t) for t in x.split())))\n",
    "train_labels.set_index('business_id', inplace=True)\n",
    "biz_ids = train_labels.index.unique()\n",
    "print (\"Number of business: \", len(biz_ids) ,   \"(4 business with missing labels are dropped)\")"
   ]
  },
  {
   "cell_type": "code",
   "execution_count": 199,
   "metadata": {
    "collapsed": false
   },
   "outputs": [
    {
     "name": "stdout",
     "output_type": "stream",
     "text": [
      "Buisness processed:  100 Time passed:  1.7 sec\n",
      "Buisness processed:  200 Time passed:  3.2 sec\n",
      "Buisness processed:  300 Time passed:  4.9 sec\n",
      "Buisness processed:  400 Time passed:  6.6 sec\n",
      "Buisness processed:  500 Time passed:  8.1 sec\n"
     ]
    }
   ],
   "source": [
    "t= time.time()\n",
    "## For each business, compute a feature vector \n",
    "df = pd.DataFrame(columns=['business','label','feature vector'])\n",
    "index = 0\n",
    "for biz in biz_ids:\n",
    "    biz=int(biz)\n",
    "    mean_feature=get_biz_features(biz)\n",
    "\n",
    "    if(mean_feature):\n",
    "        label = train_labels.loc[biz]['labels']\n",
    "        mean_feature=get_biz_features(biz)\n",
    "        df.loc[index] = [biz, label, mean_feature]\n",
    "        index+=1\n",
    "        if index%100==0:\n",
    "            print (\"Buisness processed: \", index, \"Time passed: \", \"{0:.1f}\".format(time.time()-t), \"sec\")\n",
    "\n",
    "with open(\"../dataset/train_biz_fc7features.csv\",'w') as f:  \n",
    "    df.to_csv(f, index=False)"
   ]
  },
  {
   "cell_type": "code",
   "execution_count": 205,
   "metadata": {
    "collapsed": false
   },
   "outputs": [
    {
     "name": "stdout",
     "output_type": "stream",
     "text": [
      "(583, 3)\n"
     ]
    },
    {
     "data": {
      "text/html": [
       "<div>\n",
       "<table border=\"1\" class=\"dataframe\">\n",
       "  <thead>\n",
       "    <tr style=\"text-align: right;\">\n",
       "      <th></th>\n",
       "      <th>business</th>\n",
       "      <th>label</th>\n",
       "      <th>feature vector</th>\n",
       "    </tr>\n",
       "  </thead>\n",
       "  <tbody>\n",
       "    <tr>\n",
       "      <th>0</th>\n",
       "      <td>1001.0</td>\n",
       "      <td>(0, 1, 6, 8)</td>\n",
       "      <td>[0.254280001, 0.311022013, 0.082138397, 0.2171...</td>\n",
       "    </tr>\n",
       "    <tr>\n",
       "      <th>1</th>\n",
       "      <td>101.0</td>\n",
       "      <td>(1, 2, 3, 4, 5, 6)</td>\n",
       "      <td>[0.356665164, 0.289317936, 0.308460176, 0.2959...</td>\n",
       "    </tr>\n",
       "    <tr>\n",
       "      <th>2</th>\n",
       "      <td>1012.0</td>\n",
       "      <td>(1, 2, 3, 5, 6)</td>\n",
       "      <td>[0.258892, 0.353178799, 0.575188816, 0.4061788...</td>\n",
       "    </tr>\n",
       "    <tr>\n",
       "      <th>3</th>\n",
       "      <td>1015.0</td>\n",
       "      <td>(1, 5, 6, 7)</td>\n",
       "      <td>[0.466114551, 0.394962043, 0.558969557, 0.1906...</td>\n",
       "    </tr>\n",
       "    <tr>\n",
       "      <th>4</th>\n",
       "      <td>1022.0</td>\n",
       "      <td>(0, 2, 3, 5, 8)</td>\n",
       "      <td>[0.419218779, 0.315308422, 0.484456778, 0.4717...</td>\n",
       "    </tr>\n",
       "  </tbody>\n",
       "</table>\n",
       "</div>"
      ],
      "text/plain": [
       "   business               label  \\\n",
       "0    1001.0        (0, 1, 6, 8)   \n",
       "1     101.0  (1, 2, 3, 4, 5, 6)   \n",
       "2    1012.0     (1, 2, 3, 5, 6)   \n",
       "3    1015.0        (1, 5, 6, 7)   \n",
       "4    1022.0     (0, 2, 3, 5, 8)   \n",
       "\n",
       "                                      feature vector  \n",
       "0  [0.254280001, 0.311022013, 0.082138397, 0.2171...  \n",
       "1  [0.356665164, 0.289317936, 0.308460176, 0.2959...  \n",
       "2  [0.258892, 0.353178799, 0.575188816, 0.4061788...  \n",
       "3  [0.466114551, 0.394962043, 0.558969557, 0.1906...  \n",
       "4  [0.419218779, 0.315308422, 0.484456778, 0.4717...  "
      ]
     },
     "execution_count": 205,
     "metadata": {},
     "output_type": "execute_result"
    }
   ],
   "source": [
    "# Check file content\n",
    "train_business = pd.read_csv('../dataset/train_biz_fc7features.csv')\n",
    "print (train_business.shape)\n",
    "train_business[0:5]\n"
   ]
  },
  {
   "cell_type": "code",
   "execution_count": 206,
   "metadata": {
    "collapsed": false
   },
   "outputs": [],
   "source": [
    "train_df = pd.read_csv(\"../dataset/train_biz_fc7features.csv\")\n",
    "# test_df  = pd.read_csv(data_root+\"test_biz_fc7features.csv\")\n",
    "\n",
    "y_train = train_df['label'].values\n",
    "X_train = train_df['feature vector'].values\n",
    "# X_test = test_df['feature vector'].values\n",
    "\n",
    "def convert_label_to_array(str_label):\n",
    "    str_label = str_label[1:-1]\n",
    "    str_label = str_label.split(',')\n",
    "    return [int(x) for x in str_label if len(x)>0]\n",
    "\n",
    "def convert_feature_to_vector(str_feature):\n",
    "    str_feature = str_feature[1:-1]\n",
    "    str_feature = str_feature.split(',')\n",
    "    return [ float(x) for x in str_feature]\n",
    "\n",
    "\n",
    "y_train = np.array([convert_label_to_array(y) for y in train_df['label']])\n",
    "X_train = np.array([convert_feature_to_vector(x) for x in train_df['feature vector']])\n",
    "# X_test = np.array([convert_feature_to_vector(x) for x in test_df['feature vector']])\n"
   ]
  },
  {
   "cell_type": "code",
   "execution_count": 207,
   "metadata": {
    "collapsed": false,
    "scrolled": true
   },
   "outputs": [
    {
     "name": "stdout",
     "output_type": "stream",
     "text": [
      "X_train:  (583, 2048)\n",
      "y_train:  (583,)\n",
      "train_df:\n"
     ]
    },
    {
     "data": {
      "text/html": [
       "<div>\n",
       "<table border=\"1\" class=\"dataframe\">\n",
       "  <thead>\n",
       "    <tr style=\"text-align: right;\">\n",
       "      <th></th>\n",
       "      <th>business</th>\n",
       "      <th>label</th>\n",
       "      <th>feature vector</th>\n",
       "    </tr>\n",
       "  </thead>\n",
       "  <tbody>\n",
       "    <tr>\n",
       "      <th>0</th>\n",
       "      <td>1001.0</td>\n",
       "      <td>(0, 1, 6, 8)</td>\n",
       "      <td>[0.254280001, 0.311022013, 0.082138397, 0.2171...</td>\n",
       "    </tr>\n",
       "    <tr>\n",
       "      <th>1</th>\n",
       "      <td>101.0</td>\n",
       "      <td>(1, 2, 3, 4, 5, 6)</td>\n",
       "      <td>[0.356665164, 0.289317936, 0.308460176, 0.2959...</td>\n",
       "    </tr>\n",
       "    <tr>\n",
       "      <th>2</th>\n",
       "      <td>1012.0</td>\n",
       "      <td>(1, 2, 3, 5, 6)</td>\n",
       "      <td>[0.258892, 0.353178799, 0.575188816, 0.4061788...</td>\n",
       "    </tr>\n",
       "    <tr>\n",
       "      <th>3</th>\n",
       "      <td>1015.0</td>\n",
       "      <td>(1, 5, 6, 7)</td>\n",
       "      <td>[0.466114551, 0.394962043, 0.558969557, 0.1906...</td>\n",
       "    </tr>\n",
       "    <tr>\n",
       "      <th>4</th>\n",
       "      <td>1022.0</td>\n",
       "      <td>(0, 2, 3, 5, 8)</td>\n",
       "      <td>[0.419218779, 0.315308422, 0.484456778, 0.4717...</td>\n",
       "    </tr>\n",
       "  </tbody>\n",
       "</table>\n",
       "</div>"
      ],
      "text/plain": [
       "   business               label  \\\n",
       "0    1001.0        (0, 1, 6, 8)   \n",
       "1     101.0  (1, 2, 3, 4, 5, 6)   \n",
       "2    1012.0     (1, 2, 3, 5, 6)   \n",
       "3    1015.0        (1, 5, 6, 7)   \n",
       "4    1022.0     (0, 2, 3, 5, 8)   \n",
       "\n",
       "                                      feature vector  \n",
       "0  [0.254280001, 0.311022013, 0.082138397, 0.2171...  \n",
       "1  [0.356665164, 0.289317936, 0.308460176, 0.2959...  \n",
       "2  [0.258892, 0.353178799, 0.575188816, 0.4061788...  \n",
       "3  [0.466114551, 0.394962043, 0.558969557, 0.1906...  \n",
       "4  [0.419218779, 0.315308422, 0.484456778, 0.4717...  "
      ]
     },
     "execution_count": 207,
     "metadata": {},
     "output_type": "execute_result"
    }
   ],
   "source": [
    "print (\"X_train: \", X_train.shape)\n",
    "print (\"y_train: \", y_train.shape)\n",
    "# print (\"X_test: \", X_test.shape)\n",
    "print (\"train_df:\")\n",
    "train_df[0:5]\n"
   ]
  },
  {
   "cell_type": "markdown",
   "metadata": {},
   "source": [
    "## Train a SVM using 80% training data, and assess performance(F1-score)"
   ]
  },
  {
   "cell_type": "code",
   "execution_count": 208,
   "metadata": {
    "collapsed": true
   },
   "outputs": [],
   "source": [
    "from sklearn import svm, datasets\n",
    "from sklearn.model_selection import train_test_split  \n",
    "from sklearn.preprocessing import label_binarize\n",
    "from sklearn.multiclass import OneVsRestClassifier\n",
    "from sklearn.preprocessing import MultiLabelBinarizer\n",
    "import time\n",
    "t=time.time()"
   ]
  },
  {
   "cell_type": "code",
   "execution_count": 210,
   "metadata": {
    "collapsed": false,
    "scrolled": true
   },
   "outputs": [
    {
     "name": "stdout",
     "output_type": "stream",
     "text": [
      "Time passed:  44.6 sec\n"
     ]
    }
   ],
   "source": [
    "mlb = MultiLabelBinarizer()\n",
    "y_ptrain= mlb.fit_transform(y_train)  #Convert list of labels to binary matrix\n",
    "\n",
    "random_state = np.random.RandomState(0)\n",
    "X_ptrain, X_ptest, y_ptrain, y_ptest = train_test_split(X_train, y_ptrain, test_size=.2,random_state=random_state)\n",
    "np.nan_to_num(X_ptrain)\n",
    "\n",
    "classifier = OneVsRestClassifier(svm.SVC(kernel='linear', probability=True))\n",
    "classifier.fit(X_ptrain, y_ptrain)\n",
    "\n",
    "y_ppredict = classifier.predict(X_ptest)\n",
    "\n",
    "print (\"Time passed: \", \"{0:.1f}\".format(time.time()-t), \"sec\")"
   ]
  },
  {
   "cell_type": "code",
   "execution_count": 211,
   "metadata": {
    "collapsed": false
   },
   "outputs": [
    {
     "name": "stdout",
     "output_type": "stream",
     "text": [
      "Samples of predicted labels (in binary matrix):\n",
      " [[0 1 1 1 0 1 1 0 0]\n",
      " [0 1 1 1 0 1 1 1 1]\n",
      " [0 1 1 0 1 1 1 0 0]]\n",
      "\n",
      "Samples of predicted labels:\n",
      " [(1, 2, 3, 5, 6), (1, 2, 3, 5, 6, 7, 8), (1, 2, 4, 5, 6)]\n"
     ]
    }
   ],
   "source": [
    "print (\"Samples of predicted labels (in binary matrix):\\n\", y_ppredict[0:3])\n",
    "print (\"\\nSamples of predicted labels:\\n\", mlb.inverse_transform(y_ppredict[0:3]))"
   ]
  },
  {
   "cell_type": "code",
   "execution_count": 212,
   "metadata": {
    "collapsed": false
   },
   "outputs": [
    {
     "data": {
      "text/html": [
       "<div>\n",
       "<table border=\"1\" class=\"dataframe\">\n",
       "  <thead>\n",
       "    <tr style=\"text-align: right;\">\n",
       "      <th></th>\n",
       "      <th>attribuite 0</th>\n",
       "      <th>attribuite 1</th>\n",
       "      <th>attribuite 2</th>\n",
       "      <th>attribuite 3</th>\n",
       "      <th>attribuite 4</th>\n",
       "      <th>attribuite 5</th>\n",
       "      <th>attribuite 6</th>\n",
       "      <th>attribuite 7</th>\n",
       "      <th>attribuite 8</th>\n",
       "      <th>num_biz</th>\n",
       "    </tr>\n",
       "  </thead>\n",
       "  <tbody>\n",
       "    <tr>\n",
       "      <th>biz count</th>\n",
       "      <td>39</td>\n",
       "      <td>66</td>\n",
       "      <td>67</td>\n",
       "      <td>52</td>\n",
       "      <td>46</td>\n",
       "      <td>87</td>\n",
       "      <td>89</td>\n",
       "      <td>39</td>\n",
       "      <td>66</td>\n",
       "      <td>117</td>\n",
       "    </tr>\n",
       "    <tr>\n",
       "      <th>biz ratio</th>\n",
       "      <td>33%</td>\n",
       "      <td>56%</td>\n",
       "      <td>57%</td>\n",
       "      <td>44%</td>\n",
       "      <td>39%</td>\n",
       "      <td>74%</td>\n",
       "      <td>76%</td>\n",
       "      <td>33%</td>\n",
       "      <td>56%</td>\n",
       "      <td>100%</td>\n",
       "    </tr>\n",
       "  </tbody>\n",
       "</table>\n",
       "</div>"
      ],
      "text/plain": [
       "          attribuite 0 attribuite 1 attribuite 2 attribuite 3 attribuite 4  \\\n",
       "biz count           39           66           67           52           46   \n",
       "biz ratio          33%          56%          57%          44%          39%   \n",
       "\n",
       "          attribuite 5 attribuite 6 attribuite 7 attribuite 8 num_biz  \n",
       "biz count           87           89           39           66     117  \n",
       "biz ratio          74%          76%          33%          56%    100%  "
      ]
     },
     "execution_count": 212,
     "metadata": {},
     "output_type": "execute_result"
    }
   ],
   "source": [
    "statistics = pd.DataFrame(columns=[ \"attribuite \"+str(i) for i in range(9)]+['num_biz'], index = [\"biz count\", \"biz ratio\"])\n",
    "statistics.loc[\"biz count\"] = np.append(np.sum(y_ppredict, axis=0), len(y_ppredict))\n",
    "pd.options.display.float_format = '{:.0f}%'.format\n",
    "statistics.loc[\"biz ratio\"] = statistics.loc[\"biz count\"]*100/len(y_ppredict) \n",
    "statistics"
   ]
  },
  {
   "cell_type": "code",
   "execution_count": 213,
   "metadata": {
    "collapsed": false
   },
   "outputs": [
    {
     "name": "stdout",
     "output_type": "stream",
     "text": [
      "F1 score:  0.767200754006\n",
      "Individual Class F1 score:  [ 0.61111111  0.82608696  0.79069767  0.43298969  0.69333333  0.87804878\n",
      "  0.9039548   0.57142857  0.84848485]\n"
     ]
    }
   ],
   "source": [
    "from sklearn.metrics import f1_score\n",
    "\n",
    "print (\"F1 score: \", f1_score(y_ptest, y_ppredict, average='micro') )\n",
    "print (\"Individual Class F1 score: \", f1_score(y_ptest, y_ppredict, average=None))"
   ]
  },
  {
   "cell_type": "code",
   "execution_count": 218,
   "metadata": {
    "collapsed": false
   },
   "outputs": [
    {
     "name": "stdout",
     "output_type": "stream",
     "text": [
      "P test (117, 9)\n",
      "y_ppredict  (117, 9)\n",
      "[ 0.27695349  0.39839849  0.33369449 ...,  0.96580249  0.47117549\n",
      "  0.33008051]\n",
      "[0 1 1 0 0 1 1 0 1]\n",
      "[0 1 1 1 0 1 1 0 0]\n"
     ]
    }
   ],
   "source": [
    "print(\"P test\",y_ptest.shape)\n",
    "print(\"y_ppredict \",y_ppredict.shape)\n",
    "print(X_ptest[0])\n",
    "print(y_ptest[0])\n",
    "print(y_ppredict[0])"
   ]
  },
  {
   "cell_type": "markdown",
   "metadata": {},
   "source": [
    "## Re-Train a SVM using all training data, and make predictions on test set"
   ]
  },
  {
   "cell_type": "code",
   "execution_count": 8,
   "metadata": {
    "collapsed": false
   },
   "outputs": [
    {
     "name": "stdout",
     "output_type": "stream",
     "text": [
      "Time passed:  852.3 sec\n"
     ]
    }
   ],
   "source": [
    "## Uncomment if skip previous train\n",
    "#from sklearn import svm\n",
    "#from sklearn.preprocessing import label_binarize\n",
    "#from sklearn.multiclass import OneVsRestClassifier\n",
    "#from sklearn.preprocessing import MultiLabelBinarizer\n",
    "#import time\n",
    "\n",
    "t = time.time()\n",
    "\n",
    "mlb = MultiLabelBinarizer()\n",
    "y_train= mlb.fit_transform(y_train)  #Convert list of labels to binary matrix\n",
    "\n",
    "random_state = np.random.RandomState(0)\n",
    "classifier = OneVsRestClassifier(svm.SVC(kernel='linear', probability=True))\n",
    "classifier.fit(X_train, y_train)\n",
    "\n",
    "y_predict = classifier.predict(X_test)\n",
    "\n",
    "#print list(mlb.classes_)\n",
    "y_predict_label = mlb.inverse_transform(y_predict) #Convert binary matrix back to labels\n",
    "\n",
    "print (\"Time passed: \", \"{0:.1f}\".format(time.time()-t), \"sec\")"
   ]
  },
  {
   "cell_type": "code",
   "execution_count": 9,
   "metadata": {
    "collapsed": false
   },
   "outputs": [
    {
     "data": {
      "text/plain": [
       "(10000, 4096)"
      ]
     },
     "execution_count": 9,
     "metadata": {},
     "output_type": "execute_result"
    }
   ],
   "source": [
    "X_test.shape"
   ]
  },
  {
   "cell_type": "code",
   "execution_count": 10,
   "metadata": {
    "collapsed": false
   },
   "outputs": [],
   "source": [
    "test_data_frame  = pd.read_csv(data_root+\"test_biz_fc7features.csv\")\n",
    "df = pd.DataFrame(columns=['business_id','labels'])\n",
    "\n",
    "for i in range(len(test_data_frame)):\n",
    "    biz = test_data_frame.loc[i]['business']\n",
    "    label = y_predict_label[i]\n",
    "    label = str(label)[1:-1].replace(\",\", \" \")\n",
    "    df.loc[i] = [str(biz), label]\n",
    "\n",
    "with open(data_root+\"submission_fc7.csv\",'w') as f:\n",
    "    df.to_csv(f, index=False)    \n",
    "    "
   ]
  },
  {
   "cell_type": "code",
   "execution_count": 11,
   "metadata": {
    "collapsed": false
   },
   "outputs": [
    {
     "data": {
      "text/html": [
       "<div>\n",
       "<table border=\"1\" class=\"dataframe\">\n",
       "  <thead>\n",
       "    <tr style=\"text-align: right;\">\n",
       "      <th></th>\n",
       "      <th>attribuite 0</th>\n",
       "      <th>attribuite 1</th>\n",
       "      <th>attribuite 2</th>\n",
       "      <th>attribuite 3</th>\n",
       "      <th>attribuite 4</th>\n",
       "      <th>attribuite 5</th>\n",
       "      <th>attribuite 6</th>\n",
       "      <th>attribuite 7</th>\n",
       "      <th>attribuite 8</th>\n",
       "      <th>num_biz</th>\n",
       "    </tr>\n",
       "  </thead>\n",
       "  <tbody>\n",
       "    <tr>\n",
       "      <th>biz count</th>\n",
       "      <td>1408</td>\n",
       "      <td>6211</td>\n",
       "      <td>6991</td>\n",
       "      <td>5238</td>\n",
       "      <td>2034</td>\n",
       "      <td>8293</td>\n",
       "      <td>9043</td>\n",
       "      <td>1635</td>\n",
       "      <td>6104</td>\n",
       "      <td>10000</td>\n",
       "    </tr>\n",
       "    <tr>\n",
       "      <th>biz ratio</th>\n",
       "      <td>14%</td>\n",
       "      <td>62%</td>\n",
       "      <td>70%</td>\n",
       "      <td>52%</td>\n",
       "      <td>20%</td>\n",
       "      <td>83%</td>\n",
       "      <td>90%</td>\n",
       "      <td>16%</td>\n",
       "      <td>61%</td>\n",
       "      <td>100%</td>\n",
       "    </tr>\n",
       "  </tbody>\n",
       "</table>\n",
       "</div>"
      ],
      "text/plain": [
       "          attribuite 0 attribuite 1 attribuite 2 attribuite 3 attribuite 4  \\\n",
       "biz count         1408         6211         6991         5238         2034   \n",
       "biz ratio          14%          62%          70%          52%          20%   \n",
       "\n",
       "          attribuite 5 attribuite 6 attribuite 7 attribuite 8 num_biz  \n",
       "biz count         8293         9043         1635         6104   10000  \n",
       "biz ratio          83%          90%          16%          61%    100%  "
      ]
     },
     "execution_count": 11,
     "metadata": {},
     "output_type": "execute_result"
    }
   ],
   "source": [
    "statistics = pd.DataFrame(columns=[ \"attribuite \"+str(i) for i in range(9)]+['num_biz'], index = [\"biz count\", \"biz ratio\"])\n",
    "statistics.loc[\"biz count\"] = np.append(np.sum(y_predict, axis=0), len(y_predict))\n",
    "pd.options.display.float_format = '{:.0f}%'.format\n",
    "statistics.loc[\"biz ratio\"] = statistics.loc[\"biz count\"]*100/len(y_predict) \n",
    "statistics"
   ]
  },
  {
   "cell_type": "code",
   "execution_count": null,
   "metadata": {
    "collapsed": true
   },
   "outputs": [],
   "source": [
    "#LB score: 0.76437 (use fc7 layer)\n",
    "#LB score: 0.73053 (use prob layer)"
   ]
  }
 ],
 "metadata": {
  "anaconda-cloud": {},
  "kernelspec": {
   "display_name": "Python [conda env:tensorflow_py_3]",
   "language": "python",
   "name": "conda-env-tensorflow_py_3-py"
  },
  "language_info": {
   "codemirror_mode": {
    "name": "ipython",
    "version": 3
   },
   "file_extension": ".py",
   "mimetype": "text/x-python",
   "name": "python",
   "nbconvert_exporter": "python",
   "pygments_lexer": "ipython3",
   "version": "3.5.2"
  }
 },
 "nbformat": 4,
 "nbformat_minor": 0
}
